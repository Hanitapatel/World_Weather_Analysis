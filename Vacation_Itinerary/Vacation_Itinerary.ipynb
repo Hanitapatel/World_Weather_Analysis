{
 "cells": [
  {
   "cell_type": "markdown",
   "metadata": {},
   "source": [
    "## Deliverable 3. Create a Travel Itinerary Map."
   ]
  },
  {
   "cell_type": "code",
   "execution_count": 1,
   "metadata": {},
   "outputs": [],
   "source": [
    "# Dependencies and Setup\n",
    "import pandas as pd\n",
    "import requests\n",
    "import gmaps\n",
    "\n",
    "# Import API key\n",
    "from config import g_key\n",
    "\n",
    "# Configure gmaps\n",
    "gmaps.configure(api_key=g_key)"
   ]
  },
  {
   "cell_type": "code",
   "execution_count": 5,
   "metadata": {},
   "outputs": [
    {
     "data": {
      "text/html": [
       "<div>\n",
       "<style scoped>\n",
       "    .dataframe tbody tr th:only-of-type {\n",
       "        vertical-align: middle;\n",
       "    }\n",
       "\n",
       "    .dataframe tbody tr th {\n",
       "        vertical-align: top;\n",
       "    }\n",
       "\n",
       "    .dataframe thead th {\n",
       "        text-align: right;\n",
       "    }\n",
       "</style>\n",
       "<table border=\"1\" class=\"dataframe\">\n",
       "  <thead>\n",
       "    <tr style=\"text-align: right;\">\n",
       "      <th></th>\n",
       "      <th>City_ID</th>\n",
       "      <th>City</th>\n",
       "      <th>Country</th>\n",
       "      <th>Max Temp</th>\n",
       "      <th>Current Description</th>\n",
       "      <th>Lat</th>\n",
       "      <th>Lng</th>\n",
       "      <th>Hotel Name</th>\n",
       "    </tr>\n",
       "  </thead>\n",
       "  <tbody>\n",
       "    <tr>\n",
       "      <th>0</th>\n",
       "      <td>8</td>\n",
       "      <td>Rikitea</td>\n",
       "      <td>PF</td>\n",
       "      <td>76.41</td>\n",
       "      <td>scattered clouds</td>\n",
       "      <td>-23.1203</td>\n",
       "      <td>-134.9692</td>\n",
       "      <td>People ThankYou</td>\n",
       "    </tr>\n",
       "    <tr>\n",
       "      <th>1</th>\n",
       "      <td>14</td>\n",
       "      <td>Vao</td>\n",
       "      <td>NC</td>\n",
       "      <td>75.42</td>\n",
       "      <td>scattered clouds</td>\n",
       "      <td>-22.6667</td>\n",
       "      <td>167.4833</td>\n",
       "      <td>Hotel Kou-Bugny</td>\n",
       "    </tr>\n",
       "    <tr>\n",
       "      <th>2</th>\n",
       "      <td>19</td>\n",
       "      <td>Bambous Virieux</td>\n",
       "      <td>MU</td>\n",
       "      <td>75.45</td>\n",
       "      <td>broken clouds</td>\n",
       "      <td>-20.3428</td>\n",
       "      <td>57.7575</td>\n",
       "      <td>Casa Tia Villa</td>\n",
       "    </tr>\n",
       "    <tr>\n",
       "      <th>3</th>\n",
       "      <td>22</td>\n",
       "      <td>Riohacha</td>\n",
       "      <td>CO</td>\n",
       "      <td>88.27</td>\n",
       "      <td>overcast clouds</td>\n",
       "      <td>11.5444</td>\n",
       "      <td>-72.9072</td>\n",
       "      <td>Hotel Taroa</td>\n",
       "    </tr>\n",
       "    <tr>\n",
       "      <th>4</th>\n",
       "      <td>24</td>\n",
       "      <td>Georgetown</td>\n",
       "      <td>MY</td>\n",
       "      <td>84.13</td>\n",
       "      <td>few clouds</td>\n",
       "      <td>5.4112</td>\n",
       "      <td>100.3354</td>\n",
       "      <td>Cititel Penang</td>\n",
       "    </tr>\n",
       "  </tbody>\n",
       "</table>\n",
       "</div>"
      ],
      "text/plain": [
       "   City_ID             City Country  Max Temp Current Description      Lat  \\\n",
       "0        8          Rikitea      PF     76.41    scattered clouds -23.1203   \n",
       "1       14              Vao      NC     75.42    scattered clouds -22.6667   \n",
       "2       19  Bambous Virieux      MU     75.45       broken clouds -20.3428   \n",
       "3       22         Riohacha      CO     88.27     overcast clouds  11.5444   \n",
       "4       24       Georgetown      MY     84.13          few clouds   5.4112   \n",
       "\n",
       "        Lng       Hotel Name  \n",
       "0 -134.9692  People ThankYou  \n",
       "1  167.4833  Hotel Kou-Bugny  \n",
       "2   57.7575   Casa Tia Villa  \n",
       "3  -72.9072      Hotel Taroa  \n",
       "4  100.3354   Cititel Penang  "
      ]
     },
     "execution_count": 5,
     "metadata": {},
     "output_type": "execute_result"
    }
   ],
   "source": [
    "# 1. Read the WeatherPy_vacation.csv into a DataFrame.\n",
    "vacation_df = pd.read_csv(\"../Vacation_Search/WeatherPy_vacation.csv\")\n",
    "vacation_df.head()"
   ]
  },
  {
   "cell_type": "code",
   "execution_count": 9,
   "metadata": {},
   "outputs": [],
   "source": [
    "# 2. Using the template add the city name, the country code, the weather description and maximum temperature for the city.\n",
    "info_box_template = \"\"\"\n",
    "<dl>\n",
    "<dt>Hotel Name</dt><dd>{Hotel Name}</dd>\n",
    "<dt>City</dt><dd>{City}</dd>\n",
    "<dt>Country</dt><dd>{Country}</dd>\n",
    "<dt>Max Temp</dt><dd>{Max Temp} °F</dd>\n",
    "<dt>Current Weather</dt><dd>{Current Description}</dd>\n",
    "</dl>\n",
    "\"\"\"\n",
    "\n",
    "# 3a. Get the data from each row and add it to the formatting template and store the data in a list.\n",
    "hotel_info = [info_box_template.format(**row) for index, row in vacation_df.iterrows()]\n",
    "\n",
    "# 3b. Get the latitude and longitude from each row and store in a new DataFrame.\n",
    "locations = vacation_df[[\"Lat\", \"Lng\"]]"
   ]
  },
  {
   "cell_type": "code",
   "execution_count": 10,
   "metadata": {},
   "outputs": [
    {
     "ename": "AttributeError",
     "evalue": "module 'collections' has no attribute 'Iterable'",
     "output_type": "error",
     "traceback": [
      "\u001b[1;31m---------------------------------------------------------------------------\u001b[0m",
      "\u001b[1;31mAttributeError\u001b[0m                            Traceback (most recent call last)",
      "Input \u001b[1;32mIn [10]\u001b[0m, in \u001b[0;36m<cell line: 3>\u001b[1;34m()\u001b[0m\n\u001b[0;32m      1\u001b[0m \u001b[38;5;66;03m# 4a. Add a marker layer for each city to the map.\u001b[39;00m\n\u001b[0;32m      2\u001b[0m fig \u001b[38;5;241m=\u001b[39m gmaps\u001b[38;5;241m.\u001b[39mfigure(center\u001b[38;5;241m=\u001b[39m(\u001b[38;5;241m30.0\u001b[39m, \u001b[38;5;241m31.0\u001b[39m), zoom_level\u001b[38;5;241m=\u001b[39m\u001b[38;5;241m1.5\u001b[39m)\n\u001b[1;32m----> 3\u001b[0m marker_layer \u001b[38;5;241m=\u001b[39m \u001b[43mgmaps\u001b[49m\u001b[38;5;241;43m.\u001b[39;49m\u001b[43mmarker_layer\u001b[49m\u001b[43m(\u001b[49m\u001b[43mlocations\u001b[49m\u001b[43m,\u001b[49m\u001b[43m \u001b[49m\u001b[43minfo_box_content\u001b[49m\u001b[38;5;241;43m=\u001b[39;49m\u001b[43mhotel_info\u001b[49m\u001b[43m)\u001b[49m\n\u001b[0;32m      4\u001b[0m fig\u001b[38;5;241m.\u001b[39madd_layer(marker_layer)\n\u001b[0;32m      6\u001b[0m \u001b[38;5;66;03m# 4b. Display the figure\u001b[39;00m\n",
      "File \u001b[1;32m~\\anaconda3\\envs\\PythonData\\lib\\site-packages\\gmaps\\marker.py:553\u001b[0m, in \u001b[0;36mmarker_layer\u001b[1;34m(locations, hover_text, label, info_box_content, display_info_box)\u001b[0m\n\u001b[0;32m    485\u001b[0m \u001b[38;5;129m@doc_subst\u001b[39m(_doc_snippets)\n\u001b[0;32m    486\u001b[0m \u001b[38;5;28;01mdef\u001b[39;00m \u001b[38;5;21mmarker_layer\u001b[39m(\n\u001b[0;32m    487\u001b[0m         locations, hover_text\u001b[38;5;241m=\u001b[39m\u001b[38;5;124m'\u001b[39m\u001b[38;5;124m'\u001b[39m, label\u001b[38;5;241m=\u001b[39m\u001b[38;5;124m'\u001b[39m\u001b[38;5;124m'\u001b[39m,\n\u001b[0;32m    488\u001b[0m         info_box_content\u001b[38;5;241m=\u001b[39m\u001b[38;5;28;01mNone\u001b[39;00m, display_info_box\u001b[38;5;241m=\u001b[39m\u001b[38;5;28;01mNone\u001b[39;00m):\n\u001b[0;32m    489\u001b[0m     \u001b[38;5;124;03m\"\"\"\u001b[39;00m\n\u001b[0;32m    490\u001b[0m \u001b[38;5;124;03m    Marker layer\u001b[39;00m\n\u001b[0;32m    491\u001b[0m \n\u001b[1;32m   (...)\u001b[0m\n\u001b[0;32m    551\u001b[0m \u001b[38;5;124;03m        A :class:`gmaps.Markers` instance.\u001b[39;00m\n\u001b[0;32m    552\u001b[0m \u001b[38;5;124;03m    \"\"\"\u001b[39;00m\n\u001b[1;32m--> 553\u001b[0m     marker_options \u001b[38;5;241m=\u001b[39m \u001b[43m_marker_layer_options\u001b[49m\u001b[43m(\u001b[49m\n\u001b[0;32m    554\u001b[0m \u001b[43m        \u001b[49m\u001b[43mlocations\u001b[49m\u001b[43m,\u001b[49m\u001b[43m \u001b[49m\u001b[43mhover_text\u001b[49m\u001b[43m,\u001b[49m\u001b[43m \u001b[49m\u001b[43mlabel\u001b[49m\u001b[43m,\u001b[49m\u001b[43m \u001b[49m\u001b[43minfo_box_content\u001b[49m\u001b[43m,\u001b[49m\u001b[43m \u001b[49m\u001b[43mdisplay_info_box\u001b[49m\u001b[43m)\u001b[49m\n\u001b[0;32m    555\u001b[0m     markers \u001b[38;5;241m=\u001b[39m [Marker(\u001b[38;5;241m*\u001b[39m\u001b[38;5;241m*\u001b[39moption) \u001b[38;5;28;01mfor\u001b[39;00m option \u001b[38;5;129;01min\u001b[39;00m marker_options]\n\u001b[0;32m    556\u001b[0m     \u001b[38;5;28;01mreturn\u001b[39;00m Markers(markers\u001b[38;5;241m=\u001b[39mmarkers)\n",
      "File \u001b[1;32m~\\anaconda3\\envs\\PythonData\\lib\\site-packages\\gmaps\\marker.py:311\u001b[0m, in \u001b[0;36m_marker_layer_options\u001b[1;34m(locations, hover_text, label, info_box_content, display_info_box)\u001b[0m\n\u001b[0;32m    309\u001b[0m \u001b[38;5;28;01mif\u001b[39;00m is_atomic(label):\n\u001b[0;32m    310\u001b[0m     label \u001b[38;5;241m=\u001b[39m [label] \u001b[38;5;241m*\u001b[39m number_markers\n\u001b[1;32m--> 311\u001b[0m \u001b[38;5;28;01mif\u001b[39;00m \u001b[43mis_atomic\u001b[49m\u001b[43m(\u001b[49m\u001b[43minfo_box_content\u001b[49m\u001b[43m)\u001b[49m:\n\u001b[0;32m    312\u001b[0m     info_box_content \u001b[38;5;241m=\u001b[39m [info_box_content] \u001b[38;5;241m*\u001b[39m number_markers\n\u001b[0;32m    314\u001b[0m marker_options \u001b[38;5;241m=\u001b[39m {\n\u001b[0;32m    315\u001b[0m     \u001b[38;5;124m'\u001b[39m\u001b[38;5;124mlocation\u001b[39m\u001b[38;5;124m'\u001b[39m: locations_to_list(locations),\n\u001b[0;32m    316\u001b[0m     \u001b[38;5;124m'\u001b[39m\u001b[38;5;124mhover_text\u001b[39m\u001b[38;5;124m'\u001b[39m: hover_text,\n\u001b[0;32m    317\u001b[0m     \u001b[38;5;124m'\u001b[39m\u001b[38;5;124mlabel\u001b[39m\u001b[38;5;124m'\u001b[39m: label\n\u001b[0;32m    318\u001b[0m }\n",
      "File \u001b[1;32m~\\anaconda3\\envs\\PythonData\\lib\\site-packages\\gmaps\\options.py:40\u001b[0m, in \u001b[0;36mis_atomic\u001b[1;34m(elem)\u001b[0m\n\u001b[0;32m     34\u001b[0m \u001b[38;5;28;01mdef\u001b[39;00m \u001b[38;5;21mis_atomic\u001b[39m(elem):\n\u001b[0;32m     35\u001b[0m     \u001b[38;5;124;03m\"\"\"\u001b[39;00m\n\u001b[0;32m     36\u001b[0m \u001b[38;5;124;03m    True if an element is a single atom and false if it's a collection\u001b[39;00m\n\u001b[0;32m     37\u001b[0m \u001b[38;5;124;03m    \"\"\"\u001b[39;00m\n\u001b[0;32m     38\u001b[0m     \u001b[38;5;28;01mreturn\u001b[39;00m (\n\u001b[0;32m     39\u001b[0m         \u001b[38;5;28misinstance\u001b[39m(elem, string_types) \u001b[38;5;129;01mor\u001b[39;00m\n\u001b[1;32m---> 40\u001b[0m         \u001b[38;5;129;01mnot\u001b[39;00m \u001b[38;5;28misinstance\u001b[39m(elem, \u001b[43mcollections\u001b[49m\u001b[38;5;241;43m.\u001b[39;49m\u001b[43mIterable\u001b[49m)\n\u001b[0;32m     41\u001b[0m     )\n",
      "\u001b[1;31mAttributeError\u001b[0m: module 'collections' has no attribute 'Iterable'"
     ]
    }
   ],
   "source": [
    "# 4a. Add a marker layer for each city to the map.\n",
    "fig = gmaps.figure(center=(30.0, 31.0), zoom_level=1.5)\n",
    "marker_layer = gmaps.marker_layer(locations, info_box_content=hotel_info)\n",
    "fig.add_layer(marker_layer)\n",
    "\n",
    "# 4b. Display the figure\n",
    "fig\n"
   ]
  },
  {
   "cell_type": "code",
   "execution_count": 40,
   "metadata": {},
   "outputs": [
    {
     "name": "stdout",
     "output_type": "stream",
     "text": [
      "   City_ID             City Country  Max Temp Current Description      Lat  \\\n",
      "0        8          Rikitea      PF     76.41    scattered clouds -23.1203   \n",
      "1       14              Vao      NC     75.42    scattered clouds -22.6667   \n",
      "2       19  Bambous Virieux      MU     75.45       broken clouds -20.3428   \n",
      "3       22         Riohacha      CO     88.27     overcast clouds  11.5444   \n",
      "4       24       Georgetown      MY     84.13          few clouds   5.4112   \n",
      "\n",
      "        Lng       Hotel Name  \n",
      "0 -134.9692  People ThankYou  \n",
      "1  167.4833  Hotel Kou-Bugny  \n",
      "2   57.7575   Casa Tia Villa  \n",
      "3  -72.9072      Hotel Taroa  \n",
      "4  100.3354   Cititel Penang  \n",
      "US\n"
     ]
    }
   ],
   "source": [
    "# From the map above pick 4 cities and create a vacation itinerary route to travel between the four cities. \n",
    "# 5. Create DataFrames for each city by filtering the 'vacation_df' using the loc method. \n",
    "# Hint: The starting and ending city should be the same city.\n",
    "# nice_weather_vacation_spot_df = vacation_df.loc[(vacation_df[\"Max Temp\"] <= 80) & \\\n",
    "#                                        (vacation_df[\"Max Temp\"] >= 70)]\n",
    "# nice_weather_4_vacation_spot_df = nice_weather_vacation_spot_df[\"Country\"].value_counts() >= 4\n",
    "# print(nice_weather_4_vacation_spot_df.index[0])\n",
    "# vacation_start = vacation_df.loc[(vacation_df[\"Max Temp\"] <= 80) & \\\n",
    "#                                        (vacation_df[\"Max Temp\"] >= 70) & (vacation_df[\"Country\"] == nice_weather_4_vacation_spot_df.index[0])]\n",
    "\n",
    "#print(vacation_start)\n",
    "\n",
    "# vacation_end = vacation_df.loc[]\n",
    "vacation_stop1 = vacation_df.loc[(vacation_df[\"Max Temp\"] <= 80) & \\\n",
    "                                       (vacation_df[\"Max Temp\"] >= 70) & (vacation_df[\"Country\"] == nice_weather_4_vacation_spot_df.index[0])]\n",
    "# print(vacation_stop1)\n",
    "\n",
    "# vacation_stop2 = vacation_df.loc[] \n",
    "# vacation_stop3 = vacation_df.loc[] "
   ]
  },
  {
   "cell_type": "code",
   "execution_count": 6,
   "metadata": {},
   "outputs": [],
   "source": [
    "# 6. Get the latitude-longitude pairs as tuples from each city DataFrame using the to_numpy function and list indexing.\n",
    "start = \n",
    "end = \n",
    "stop1 = \n",
    "stop2 = \n",
    "stop3 = "
   ]
  },
  {
   "cell_type": "code",
   "execution_count": 7,
   "metadata": {
    "scrolled": true
   },
   "outputs": [],
   "source": [
    "# 7. Create a direction layer map using the start and end latitude-longitude pairs,\n",
    "# and stop1, stop2, and stop3 as the waypoints. The travel_mode should be \"DRIVING\", \"BICYCLING\", or \"WALKING\".\n",
    "\n"
   ]
  },
  {
   "cell_type": "code",
   "execution_count": 8,
   "metadata": {},
   "outputs": [],
   "source": [
    "# 8. To create a marker layer map between the four cities.\n",
    "#  Combine the four city DataFrames into one DataFrame using the concat() function.\n",
    "itinerary_df = pd.concat([],ignore_index=True)\n",
    "itinerary_df"
   ]
  },
  {
   "cell_type": "code",
   "execution_count": 9,
   "metadata": {},
   "outputs": [],
   "source": [
    "# 9 Using the template add city name, the country code, the weather description and maximum temperature for the city. \n",
    "info_box_template = \"\"\"\n",
    "\n",
    "\"\"\"\n",
    "\n",
    "# 10a Get the data from each row and add it to the formatting template and store the data in a list.\n",
    "hotel_info = [info_box_template.format(**row) for index, row in itinerary_df.iterrows()]\n",
    "\n",
    "# 10b. Get the latitude and longitude from each row and store in a new DataFrame.\n",
    "locations = itinerary_df[[\"Lat\", \"Lng\"]]"
   ]
  },
  {
   "cell_type": "code",
   "execution_count": 10,
   "metadata": {},
   "outputs": [],
   "source": [
    "# 11a. Add a marker layer for each city to the map.\n",
    "\n",
    "# 11b. Display the figure\n"
   ]
  },
  {
   "cell_type": "code",
   "execution_count": null,
   "metadata": {},
   "outputs": [],
   "source": []
  }
 ],
 "metadata": {
  "kernelspec": {
   "display_name": "PythonData",
   "language": "python",
   "name": "pythondata"
  },
  "language_info": {
   "codemirror_mode": {
    "name": "ipython",
    "version": 3
   },
   "file_extension": ".py",
   "mimetype": "text/x-python",
   "name": "python",
   "nbconvert_exporter": "python",
   "pygments_lexer": "ipython3",
   "version": "3.10.4"
  },
  "latex_envs": {
   "LaTeX_envs_menu_present": true,
   "autoclose": false,
   "autocomplete": true,
   "bibliofile": "biblio.bib",
   "cite_by": "apalike",
   "current_citInitial": 1,
   "eqLabelWithNumbers": true,
   "eqNumInitial": 1,
   "hotkeys": {
    "equation": "Ctrl-E",
    "itemize": "Ctrl-I"
   },
   "labels_anchors": false,
   "latex_user_defs": false,
   "report_style_numbering": false,
   "user_envs_cfg": false
  }
 },
 "nbformat": 4,
 "nbformat_minor": 2
}
