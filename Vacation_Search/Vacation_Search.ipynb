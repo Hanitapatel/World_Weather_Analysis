{
 "cells": [
  {
   "cell_type": "markdown",
   "metadata": {},
   "source": [
    "## Deliverable 2. Create a Customer Travel Destinations Map."
   ]
  },
  {
   "cell_type": "code",
   "execution_count": 2,
   "metadata": {},
   "outputs": [],
   "source": [
    "# Dependencies and Setup\n",
    "import pandas as pd\n",
    "import requests\n",
    "import gmaps\n",
    "\n",
    "# Import API key\n",
    "from config import g_key\n",
    "\n",
    "# Configure gmaps API key\n",
    "gmaps.configure(api_key=g_key)"
   ]
  },
  {
   "cell_type": "code",
   "execution_count": 3,
   "metadata": {},
   "outputs": [
    {
     "data": {
      "text/html": [
       "<div>\n",
       "<style scoped>\n",
       "    .dataframe tbody tr th:only-of-type {\n",
       "        vertical-align: middle;\n",
       "    }\n",
       "\n",
       "    .dataframe tbody tr th {\n",
       "        vertical-align: top;\n",
       "    }\n",
       "\n",
       "    .dataframe thead th {\n",
       "        text-align: right;\n",
       "    }\n",
       "</style>\n",
       "<table border=\"1\" class=\"dataframe\">\n",
       "  <thead>\n",
       "    <tr style=\"text-align: right;\">\n",
       "      <th></th>\n",
       "      <th>City_ID</th>\n",
       "      <th>City</th>\n",
       "      <th>Country</th>\n",
       "      <th>Lat</th>\n",
       "      <th>Lng</th>\n",
       "      <th>Max Temp</th>\n",
       "      <th>Humidity</th>\n",
       "      <th>Cloudiness</th>\n",
       "      <th>Wind Speed</th>\n",
       "      <th>Current Description</th>\n",
       "    </tr>\n",
       "  </thead>\n",
       "  <tbody>\n",
       "    <tr>\n",
       "      <th>0</th>\n",
       "      <td>0</td>\n",
       "      <td>Carnarvon</td>\n",
       "      <td>AU</td>\n",
       "      <td>-24.8667</td>\n",
       "      <td>113.6333</td>\n",
       "      <td>66.27</td>\n",
       "      <td>72</td>\n",
       "      <td>0</td>\n",
       "      <td>8.05</td>\n",
       "      <td>clear sky</td>\n",
       "    </tr>\n",
       "    <tr>\n",
       "      <th>1</th>\n",
       "      <td>1</td>\n",
       "      <td>Ust-Maya</td>\n",
       "      <td>RU</td>\n",
       "      <td>60.4167</td>\n",
       "      <td>134.5333</td>\n",
       "      <td>28.29</td>\n",
       "      <td>91</td>\n",
       "      <td>58</td>\n",
       "      <td>5.66</td>\n",
       "      <td>broken clouds</td>\n",
       "    </tr>\n",
       "    <tr>\n",
       "      <th>2</th>\n",
       "      <td>2</td>\n",
       "      <td>Jamestown</td>\n",
       "      <td>US</td>\n",
       "      <td>42.0970</td>\n",
       "      <td>-79.2353</td>\n",
       "      <td>53.71</td>\n",
       "      <td>89</td>\n",
       "      <td>100</td>\n",
       "      <td>14.97</td>\n",
       "      <td>moderate rain</td>\n",
       "    </tr>\n",
       "    <tr>\n",
       "      <th>3</th>\n",
       "      <td>3</td>\n",
       "      <td>Cape Town</td>\n",
       "      <td>ZA</td>\n",
       "      <td>-33.9258</td>\n",
       "      <td>18.4232</td>\n",
       "      <td>64.11</td>\n",
       "      <td>73</td>\n",
       "      <td>0</td>\n",
       "      <td>13.00</td>\n",
       "      <td>clear sky</td>\n",
       "    </tr>\n",
       "    <tr>\n",
       "      <th>4</th>\n",
       "      <td>4</td>\n",
       "      <td>Albany</td>\n",
       "      <td>US</td>\n",
       "      <td>42.6001</td>\n",
       "      <td>-73.9662</td>\n",
       "      <td>66.16</td>\n",
       "      <td>31</td>\n",
       "      <td>13</td>\n",
       "      <td>3.00</td>\n",
       "      <td>few clouds</td>\n",
       "    </tr>\n",
       "  </tbody>\n",
       "</table>\n",
       "</div>"
      ],
      "text/plain": [
       "   City_ID       City Country      Lat       Lng  Max Temp  Humidity  \\\n",
       "0        0  Carnarvon      AU -24.8667  113.6333     66.27        72   \n",
       "1        1   Ust-Maya      RU  60.4167  134.5333     28.29        91   \n",
       "2        2  Jamestown      US  42.0970  -79.2353     53.71        89   \n",
       "3        3  Cape Town      ZA -33.9258   18.4232     64.11        73   \n",
       "4        4     Albany      US  42.6001  -73.9662     66.16        31   \n",
       "\n",
       "   Cloudiness  Wind Speed Current Description  \n",
       "0           0        8.05           clear sky  \n",
       "1          58        5.66       broken clouds  \n",
       "2         100       14.97       moderate rain  \n",
       "3           0       13.00           clear sky  \n",
       "4          13        3.00          few clouds  "
      ]
     },
     "execution_count": 3,
     "metadata": {},
     "output_type": "execute_result"
    }
   ],
   "source": [
    "# 1. Import the WeatherPy_database.csv file. \n",
    "city_data_df = pd.read_csv(\"../Weather_Database/WeatherPy_database.csv\")\n",
    "city_data_df.head()"
   ]
  },
  {
   "cell_type": "code",
<<<<<<< Updated upstream
=======
<<<<<<< HEAD
>>>>>>> Stashed changes
<<<<<<< Updated upstream
   "execution_count": 17,
=======
   "execution_count": 5,
>>>>>>> Stashed changes
<<<<<<< Updated upstream
=======
=======
   "execution_count": 4,
>>>>>>> d769eee648dc774d56e271b4ce3a337e7118a4c5
>>>>>>> Stashed changes
   "metadata": {},
   "outputs": [
    {
     "name": "stdout",
     "output_type": "stream",
     "text": [
      "What is the minimum temperature you would like for your trip? 75\n",
      "What is the maximum temperature you would like for your trip? 90\n"
     ]
    }
   ],
   "source": [
    "# 2. Prompt the user to enter minimum and maximum temperature criteria \n",
    "# Get the maximum temperature.\n",
    "max_temp = city_data_df[\"Max Temp\"]\n",
    "temps = []\n",
    "for temp in max_temp:\n",
    "    temps.append(max(temp, 0))   \n",
    "    \n",
    "# Ask the customer to add a minimum and maximum temperature value.\n",
    "min_temp = float(input(\"What is the minimum temperature you would like for your trip? \"))\n",
    "max_temp = float(input(\"What is the maximum temperature you would like for your trip? \"))    \n"
   ]
  },
  {
   "cell_type": "code",
<<<<<<< Updated upstream
=======
<<<<<<< HEAD
>>>>>>> Stashed changes
<<<<<<< Updated upstream
   "execution_count": 19,
=======
   "execution_count": 6,
>>>>>>> Stashed changes
<<<<<<< Updated upstream
=======
=======
   "execution_count": 5,
>>>>>>> d769eee648dc774d56e271b4ce3a337e7118a4c5
>>>>>>> Stashed changes
   "metadata": {},
   "outputs": [
    {
     "data": {
      "text/html": [
       "<div>\n",
       "<style scoped>\n",
       "    .dataframe tbody tr th:only-of-type {\n",
       "        vertical-align: middle;\n",
       "    }\n",
       "\n",
       "    .dataframe tbody tr th {\n",
       "        vertical-align: top;\n",
       "    }\n",
       "\n",
       "    .dataframe thead th {\n",
       "        text-align: right;\n",
       "    }\n",
       "</style>\n",
       "<table border=\"1\" class=\"dataframe\">\n",
       "  <thead>\n",
       "    <tr style=\"text-align: right;\">\n",
       "      <th></th>\n",
       "      <th>City_ID</th>\n",
       "      <th>City</th>\n",
       "      <th>Country</th>\n",
       "      <th>Lat</th>\n",
       "      <th>Lng</th>\n",
       "      <th>Max Temp</th>\n",
       "      <th>Humidity</th>\n",
       "      <th>Cloudiness</th>\n",
       "      <th>Wind Speed</th>\n",
       "      <th>Current Description</th>\n",
       "    </tr>\n",
       "  </thead>\n",
       "  <tbody>\n",
       "    <tr>\n",
       "      <th>8</th>\n",
       "      <td>8</td>\n",
       "      <td>Rikitea</td>\n",
       "      <td>PF</td>\n",
       "      <td>-23.1203</td>\n",
       "      <td>-134.9692</td>\n",
       "      <td>76.41</td>\n",
       "      <td>72</td>\n",
       "      <td>34</td>\n",
       "      <td>5.97</td>\n",
       "      <td>scattered clouds</td>\n",
       "    </tr>\n",
       "    <tr>\n",
       "      <th>14</th>\n",
       "      <td>14</td>\n",
       "      <td>Vao</td>\n",
       "      <td>NC</td>\n",
       "      <td>-22.6667</td>\n",
       "      <td>167.4833</td>\n",
       "      <td>75.42</td>\n",
       "      <td>84</td>\n",
       "      <td>32</td>\n",
       "      <td>21.30</td>\n",
       "      <td>scattered clouds</td>\n",
       "    </tr>\n",
       "    <tr>\n",
       "      <th>19</th>\n",
       "      <td>19</td>\n",
       "      <td>Bambous Virieux</td>\n",
       "      <td>MU</td>\n",
       "      <td>-20.3428</td>\n",
       "      <td>57.7575</td>\n",
       "      <td>75.45</td>\n",
       "      <td>88</td>\n",
       "      <td>75</td>\n",
       "      <td>3.44</td>\n",
       "      <td>broken clouds</td>\n",
       "    </tr>\n",
       "    <tr>\n",
       "      <th>22</th>\n",
       "      <td>22</td>\n",
       "      <td>Riohacha</td>\n",
       "      <td>CO</td>\n",
       "      <td>11.5444</td>\n",
       "      <td>-72.9072</td>\n",
       "      <td>88.27</td>\n",
       "      <td>64</td>\n",
       "      <td>100</td>\n",
       "      <td>4.72</td>\n",
       "      <td>overcast clouds</td>\n",
       "    </tr>\n",
       "    <tr>\n",
       "      <th>24</th>\n",
       "      <td>24</td>\n",
       "      <td>Georgetown</td>\n",
       "      <td>MY</td>\n",
       "      <td>5.4112</td>\n",
       "      <td>100.3354</td>\n",
       "      <td>84.13</td>\n",
       "      <td>84</td>\n",
       "      <td>20</td>\n",
       "      <td>0.00</td>\n",
       "      <td>few clouds</td>\n",
       "    </tr>\n",
       "    <tr>\n",
       "      <th>32</th>\n",
       "      <td>32</td>\n",
       "      <td>Sabang</td>\n",
       "      <td>ID</td>\n",
       "      <td>5.8933</td>\n",
       "      <td>95.3214</td>\n",
       "      <td>84.06</td>\n",
       "      <td>75</td>\n",
       "      <td>97</td>\n",
       "      <td>22.93</td>\n",
       "      <td>overcast clouds</td>\n",
       "    </tr>\n",
       "    <tr>\n",
       "      <th>33</th>\n",
       "      <td>33</td>\n",
       "      <td>Padang</td>\n",
       "      <td>ID</td>\n",
       "      <td>-0.9492</td>\n",
       "      <td>100.3543</td>\n",
       "      <td>75.25</td>\n",
       "      <td>89</td>\n",
       "      <td>97</td>\n",
       "      <td>2.68</td>\n",
       "      <td>overcast clouds</td>\n",
       "    </tr>\n",
       "    <tr>\n",
       "      <th>35</th>\n",
       "      <td>35</td>\n",
       "      <td>Bengkulu</td>\n",
       "      <td>ID</td>\n",
       "      <td>-3.8004</td>\n",
       "      <td>102.2655</td>\n",
       "      <td>76.75</td>\n",
       "      <td>90</td>\n",
       "      <td>100</td>\n",
       "      <td>4.03</td>\n",
       "      <td>overcast clouds</td>\n",
       "    </tr>\n",
       "    <tr>\n",
       "      <th>36</th>\n",
       "      <td>36</td>\n",
       "      <td>Port Maria</td>\n",
       "      <td>JM</td>\n",
       "      <td>18.3685</td>\n",
       "      <td>-76.8895</td>\n",
       "      <td>87.76</td>\n",
       "      <td>83</td>\n",
       "      <td>100</td>\n",
       "      <td>12.86</td>\n",
       "      <td>overcast clouds</td>\n",
       "    </tr>\n",
       "    <tr>\n",
       "      <th>40</th>\n",
       "      <td>40</td>\n",
       "      <td>Butaritari</td>\n",
       "      <td>KI</td>\n",
       "      <td>3.0707</td>\n",
       "      <td>172.7902</td>\n",
       "      <td>80.87</td>\n",
       "      <td>79</td>\n",
       "      <td>95</td>\n",
       "      <td>11.50</td>\n",
       "      <td>light rain</td>\n",
       "    </tr>\n",
       "  </tbody>\n",
       "</table>\n",
       "</div>"
      ],
      "text/plain": [
       "    City_ID             City Country      Lat       Lng  Max Temp  Humidity  \\\n",
       "8         8          Rikitea      PF -23.1203 -134.9692     76.41        72   \n",
       "14       14              Vao      NC -22.6667  167.4833     75.42        84   \n",
       "19       19  Bambous Virieux      MU -20.3428   57.7575     75.45        88   \n",
       "22       22         Riohacha      CO  11.5444  -72.9072     88.27        64   \n",
       "24       24       Georgetown      MY   5.4112  100.3354     84.13        84   \n",
       "32       32           Sabang      ID   5.8933   95.3214     84.06        75   \n",
       "33       33           Padang      ID  -0.9492  100.3543     75.25        89   \n",
       "35       35         Bengkulu      ID  -3.8004  102.2655     76.75        90   \n",
       "36       36       Port Maria      JM  18.3685  -76.8895     87.76        83   \n",
       "40       40       Butaritari      KI   3.0707  172.7902     80.87        79   \n",
       "\n",
       "    Cloudiness  Wind Speed Current Description  \n",
       "8           34        5.97    scattered clouds  \n",
       "14          32       21.30    scattered clouds  \n",
       "19          75        3.44       broken clouds  \n",
       "22         100        4.72     overcast clouds  \n",
       "24          20        0.00          few clouds  \n",
       "32          97       22.93     overcast clouds  \n",
       "33          97        2.68     overcast clouds  \n",
       "35         100        4.03     overcast clouds  \n",
       "36         100       12.86     overcast clouds  \n",
       "40          95       11.50          light rain  "
      ]
     },
<<<<<<< Updated upstream
=======
<<<<<<< HEAD
>>>>>>> Stashed changes
<<<<<<< Updated upstream
     "execution_count": 19,
=======
     "execution_count": 6,
>>>>>>> Stashed changes
<<<<<<< Updated upstream
=======
=======
     "execution_count": 5,
>>>>>>> d769eee648dc774d56e271b4ce3a337e7118a4c5
>>>>>>> Stashed changes
     "metadata": {},
     "output_type": "execute_result"
    }
   ],
   "source": [
    "# 3. Filter the city_data_df DataFrame using the input statements to create a new DataFrame using the loc method.\n",
    "# Filter the dataset to find the cities that fit the criteria.\n",
<<<<<<< Updated upstream
    "clean_df = city_data_df.loc[(city_data_df[\"Max Temp\"] <= max_temp) & \\\n",
    "                                       (city_data_df[\"Max Temp\"] >= min_temp)]\n",
    "clean_df.head(10)"
=======
    "preferred_cities_df = city_data_df.loc[(city_data_df[\"Max Temp\"] <= max_temp) & \\\n",
    "                                       (city_data_df[\"Max Temp\"] >= min_temp)]\n",
    "preferred_cities_df.head(10)"
>>>>>>> Stashed changes
   ]
  },
  {
   "cell_type": "code",
<<<<<<< Updated upstream
=======
<<<<<<< HEAD
>>>>>>> Stashed changes
<<<<<<< Updated upstream
   "execution_count": 20,
=======
   "execution_count": 7,
>>>>>>> Stashed changes
<<<<<<< Updated upstream
=======
=======
   "execution_count": 6,
>>>>>>> d769eee648dc774d56e271b4ce3a337e7118a4c5
>>>>>>> Stashed changes
   "metadata": {},
   "outputs": [
    {
     "data": {
      "text/plain": [
       "City_ID                225\n",
       "City                   225\n",
       "Country                225\n",
       "Lat                    225\n",
       "Lng                    225\n",
       "Max Temp               225\n",
       "Humidity               225\n",
       "Cloudiness             225\n",
       "Wind Speed             225\n",
       "Current Description    225\n",
       "dtype: int64"
      ]
     },
<<<<<<< Updated upstream
=======
<<<<<<< HEAD
>>>>>>> Stashed changes
<<<<<<< Updated upstream
     "execution_count": 20,
=======
     "execution_count": 7,
>>>>>>> Stashed changes
<<<<<<< Updated upstream
=======
=======
     "execution_count": 6,
>>>>>>> d769eee648dc774d56e271b4ce3a337e7118a4c5
>>>>>>> Stashed changes
     "metadata": {},
     "output_type": "execute_result"
    }
   ],
   "source": [
    "# 4a. Determine if there are any empty rows.\n",
<<<<<<< Updated upstream
    "clean_df.count()\n"
=======
    "preferred_cities_df.count()\n"
>>>>>>> Stashed changes
   ]
  },
  {
   "cell_type": "code",
<<<<<<< Updated upstream
=======
<<<<<<< HEAD
>>>>>>> Stashed changes
<<<<<<< Updated upstream
   "execution_count": 21,
=======
   "execution_count": 6,
>>>>>>> Stashed changes
<<<<<<< Updated upstream
=======
=======
   "execution_count": 7,
>>>>>>> d769eee648dc774d56e271b4ce3a337e7118a4c5
>>>>>>> Stashed changes
   "metadata": {},
   "outputs": [],
   "source": [
    "# 4b. Drop any empty rows and create a new DataFrame that doesn’t have empty rows.\n"
   ]
  },
  {
   "cell_type": "code",
<<<<<<< Updated upstream
=======
<<<<<<< HEAD
>>>>>>> Stashed changes
<<<<<<< Updated upstream
   "execution_count": 22,
=======
   "execution_count": 8,
>>>>>>> d769eee648dc774d56e271b4ce3a337e7118a4c5
   "metadata": {},
   "outputs": [
    {
     "data": {
      "text/html": [
       "<div>\n",
       "<style scoped>\n",
       "    .dataframe tbody tr th:only-of-type {\n",
       "        vertical-align: middle;\n",
       "    }\n",
       "\n",
       "    .dataframe tbody tr th {\n",
       "        vertical-align: top;\n",
       "    }\n",
       "\n",
       "    .dataframe thead th {\n",
       "        text-align: right;\n",
       "    }\n",
       "</style>\n",
       "<table border=\"1\" class=\"dataframe\">\n",
       "  <thead>\n",
       "    <tr style=\"text-align: right;\">\n",
       "      <th></th>\n",
       "      <th>City</th>\n",
       "      <th>Country</th>\n",
       "      <th>Max Temp</th>\n",
       "      <th>Current Description</th>\n",
       "      <th>Lat</th>\n",
       "      <th>Lng</th>\n",
       "      <th>Hotel Name</th>\n",
       "    </tr>\n",
       "  </thead>\n",
       "  <tbody>\n",
       "    <tr>\n",
       "      <th>8</th>\n",
       "      <td>Rikitea</td>\n",
       "      <td>PF</td>\n",
       "      <td>76.41</td>\n",
       "      <td>scattered clouds</td>\n",
       "      <td>-23.1203</td>\n",
       "      <td>-134.9692</td>\n",
       "      <td></td>\n",
       "    </tr>\n",
       "    <tr>\n",
       "      <th>14</th>\n",
       "      <td>Vao</td>\n",
       "      <td>NC</td>\n",
       "      <td>75.42</td>\n",
       "      <td>scattered clouds</td>\n",
       "      <td>-22.6667</td>\n",
       "      <td>167.4833</td>\n",
       "      <td></td>\n",
       "    </tr>\n",
       "    <tr>\n",
       "      <th>19</th>\n",
       "      <td>Bambous Virieux</td>\n",
       "      <td>MU</td>\n",
       "      <td>75.45</td>\n",
       "      <td>broken clouds</td>\n",
       "      <td>-20.3428</td>\n",
       "      <td>57.7575</td>\n",
       "      <td></td>\n",
       "    </tr>\n",
       "    <tr>\n",
       "      <th>22</th>\n",
       "      <td>Riohacha</td>\n",
       "      <td>CO</td>\n",
       "      <td>88.27</td>\n",
       "      <td>overcast clouds</td>\n",
       "      <td>11.5444</td>\n",
       "      <td>-72.9072</td>\n",
       "      <td></td>\n",
       "    </tr>\n",
       "    <tr>\n",
       "      <th>24</th>\n",
       "      <td>Georgetown</td>\n",
       "      <td>MY</td>\n",
       "      <td>84.13</td>\n",
       "      <td>few clouds</td>\n",
       "      <td>5.4112</td>\n",
       "      <td>100.3354</td>\n",
       "      <td></td>\n",
       "    </tr>\n",
       "    <tr>\n",
       "      <th>32</th>\n",
       "      <td>Sabang</td>\n",
       "      <td>ID</td>\n",
       "      <td>84.06</td>\n",
       "      <td>overcast clouds</td>\n",
       "      <td>5.8933</td>\n",
       "      <td>95.3214</td>\n",
       "      <td></td>\n",
       "    </tr>\n",
       "    <tr>\n",
       "      <th>33</th>\n",
       "      <td>Padang</td>\n",
       "      <td>ID</td>\n",
       "      <td>75.25</td>\n",
       "      <td>overcast clouds</td>\n",
       "      <td>-0.9492</td>\n",
       "      <td>100.3543</td>\n",
       "      <td></td>\n",
       "    </tr>\n",
       "    <tr>\n",
       "      <th>35</th>\n",
       "      <td>Bengkulu</td>\n",
       "      <td>ID</td>\n",
       "      <td>76.75</td>\n",
       "      <td>overcast clouds</td>\n",
       "      <td>-3.8004</td>\n",
       "      <td>102.2655</td>\n",
       "      <td></td>\n",
       "    </tr>\n",
       "    <tr>\n",
       "      <th>36</th>\n",
       "      <td>Port Maria</td>\n",
       "      <td>JM</td>\n",
       "      <td>87.76</td>\n",
       "      <td>overcast clouds</td>\n",
       "      <td>18.3685</td>\n",
       "      <td>-76.8895</td>\n",
       "      <td></td>\n",
       "    </tr>\n",
       "    <tr>\n",
       "      <th>40</th>\n",
       "      <td>Butaritari</td>\n",
       "      <td>KI</td>\n",
       "      <td>80.87</td>\n",
       "      <td>light rain</td>\n",
       "      <td>3.0707</td>\n",
       "      <td>172.7902</td>\n",
       "      <td></td>\n",
       "    </tr>\n",
       "  </tbody>\n",
       "</table>\n",
       "</div>"
      ],
      "text/plain": [
       "               City Country  Max Temp Current Description      Lat       Lng  \\\n",
       "8           Rikitea      PF     76.41    scattered clouds -23.1203 -134.9692   \n",
       "14              Vao      NC     75.42    scattered clouds -22.6667  167.4833   \n",
       "19  Bambous Virieux      MU     75.45       broken clouds -20.3428   57.7575   \n",
       "22         Riohacha      CO     88.27     overcast clouds  11.5444  -72.9072   \n",
       "24       Georgetown      MY     84.13          few clouds   5.4112  100.3354   \n",
       "32           Sabang      ID     84.06     overcast clouds   5.8933   95.3214   \n",
       "33           Padang      ID     75.25     overcast clouds  -0.9492  100.3543   \n",
       "35         Bengkulu      ID     76.75     overcast clouds  -3.8004  102.2655   \n",
       "36       Port Maria      JM     87.76     overcast clouds  18.3685  -76.8895   \n",
       "40       Butaritari      KI     80.87          light rain   3.0707  172.7902   \n",
       "\n",
       "   Hotel Name  \n",
       "8              \n",
       "14             \n",
       "19             \n",
       "22             \n",
       "24             \n",
       "32             \n",
       "33             \n",
       "35             \n",
       "36             \n",
       "40             "
      ]
     },
     "execution_count": 8,
     "metadata": {},
     "output_type": "execute_result"
    }
   ],
=======
   "execution_count": 7,
   "metadata": {},
   "outputs": [],
>>>>>>> Stashed changes
   "source": [
    "# 5a. Create DataFrame called hotel_df to store hotel names along with city, country, max temp, and coordinates.\n",
    "hotel_df = clean_df[[\"City\", \"Country\", \"Max Temp\", \"Current Description\", \"Lat\", \"Lng\"]].copy()\n",
    "\n",
    "# 5b. Create a new column \"Hotel Name\"\n",
    "hotel_df[\"Hotel Name\"] = \"\"\n",
    "hotel_df.head(10)"
   ]
  },
  {
   "cell_type": "code",
<<<<<<< Updated upstream
=======
<<<<<<< HEAD
>>>>>>> Stashed changes
<<<<<<< Updated upstream
   "execution_count": 23,
=======
   "execution_count": 9,
>>>>>>> d769eee648dc774d56e271b4ce3a337e7118a4c5
   "metadata": {},
   "outputs": [
    {
     "name": "stdout",
     "output_type": "stream",
     "text": [
      "Hotel not found... skipping.\n",
      "Hotel not found... skipping.\n",
      "Hotel not found... skipping.\n",
      "Hotel not found... skipping.\n",
      "Hotel not found... skipping.\n",
      "Hotel not found... skipping.\n",
      "Hotel not found... skipping.\n",
      "Hotel not found... skipping.\n",
      "Hotel not found... skipping.\n",
      "Hotel not found... skipping.\n",
      "Hotel not found... skipping.\n"
     ]
    },
    {
     "data": {
      "text/html": [
       "<div>\n",
       "<style scoped>\n",
       "    .dataframe tbody tr th:only-of-type {\n",
       "        vertical-align: middle;\n",
       "    }\n",
       "\n",
       "    .dataframe tbody tr th {\n",
       "        vertical-align: top;\n",
       "    }\n",
       "\n",
       "    .dataframe thead th {\n",
       "        text-align: right;\n",
       "    }\n",
       "</style>\n",
       "<table border=\"1\" class=\"dataframe\">\n",
       "  <thead>\n",
       "    <tr style=\"text-align: right;\">\n",
       "      <th></th>\n",
       "      <th>City</th>\n",
       "      <th>Country</th>\n",
       "      <th>Max Temp</th>\n",
       "      <th>Current Description</th>\n",
       "      <th>Lat</th>\n",
       "      <th>Lng</th>\n",
       "      <th>Hotel Name</th>\n",
       "    </tr>\n",
       "  </thead>\n",
       "  <tbody>\n",
       "    <tr>\n",
       "      <th>8</th>\n",
       "      <td>Rikitea</td>\n",
       "      <td>PF</td>\n",
       "      <td>76.41</td>\n",
       "      <td>scattered clouds</td>\n",
       "      <td>-23.1203</td>\n",
       "      <td>-134.9692</td>\n",
       "      <td>People ThankYou</td>\n",
       "    </tr>\n",
       "    <tr>\n",
       "      <th>14</th>\n",
       "      <td>Vao</td>\n",
       "      <td>NC</td>\n",
       "      <td>75.42</td>\n",
       "      <td>scattered clouds</td>\n",
       "      <td>-22.6667</td>\n",
       "      <td>167.4833</td>\n",
       "      <td>Hotel Kou-Bugny</td>\n",
       "    </tr>\n",
       "    <tr>\n",
       "      <th>19</th>\n",
       "      <td>Bambous Virieux</td>\n",
       "      <td>MU</td>\n",
       "      <td>75.45</td>\n",
       "      <td>broken clouds</td>\n",
       "      <td>-20.3428</td>\n",
       "      <td>57.7575</td>\n",
       "      <td>Casa Tia Villa</td>\n",
       "    </tr>\n",
       "    <tr>\n",
       "      <th>22</th>\n",
       "      <td>Riohacha</td>\n",
       "      <td>CO</td>\n",
       "      <td>88.27</td>\n",
       "      <td>overcast clouds</td>\n",
       "      <td>11.5444</td>\n",
       "      <td>-72.9072</td>\n",
       "      <td>Hotel Taroa</td>\n",
       "    </tr>\n",
       "    <tr>\n",
       "      <th>24</th>\n",
       "      <td>Georgetown</td>\n",
       "      <td>MY</td>\n",
       "      <td>84.13</td>\n",
       "      <td>few clouds</td>\n",
       "      <td>5.4112</td>\n",
       "      <td>100.3354</td>\n",
       "      <td>Cititel Penang</td>\n",
       "    </tr>\n",
       "    <tr>\n",
       "      <th>...</th>\n",
       "      <td>...</td>\n",
       "      <td>...</td>\n",
       "      <td>...</td>\n",
       "      <td>...</td>\n",
       "      <td>...</td>\n",
       "      <td>...</td>\n",
       "      <td>...</td>\n",
       "    </tr>\n",
       "    <tr>\n",
       "      <th>713</th>\n",
       "      <td>Bitung</td>\n",
       "      <td>ID</td>\n",
       "      <td>77.85</td>\n",
       "      <td>overcast clouds</td>\n",
       "      <td>1.4451</td>\n",
       "      <td>125.1824</td>\n",
       "      <td>K2 Lembeh</td>\n",
       "    </tr>\n",
       "    <tr>\n",
       "      <th>719</th>\n",
       "      <td>Bubaque</td>\n",
       "      <td>GW</td>\n",
       "      <td>78.73</td>\n",
       "      <td>few clouds</td>\n",
       "      <td>11.2833</td>\n",
       "      <td>-15.8333</td>\n",
       "      <td>Casa Dora, Bubaque</td>\n",
       "    </tr>\n",
       "    <tr>\n",
       "      <th>721</th>\n",
       "      <td>Las Vegas</td>\n",
       "      <td>US</td>\n",
       "      <td>81.84</td>\n",
       "      <td>clear sky</td>\n",
       "      <td>36.1750</td>\n",
       "      <td>-115.1372</td>\n",
       "      <td>Plaza Hotel &amp; Casino</td>\n",
       "    </tr>\n",
       "    <tr>\n",
       "      <th>723</th>\n",
       "      <td>Nabisar</td>\n",
       "      <td>PK</td>\n",
       "      <td>89.46</td>\n",
       "      <td>clear sky</td>\n",
       "      <td>25.0685</td>\n",
       "      <td>69.6419</td>\n",
       "      <td>Dhani Parto Dars</td>\n",
       "    </tr>\n",
       "    <tr>\n",
       "      <th>725</th>\n",
       "      <td>Piacabucu</td>\n",
       "      <td>BR</td>\n",
       "      <td>82.80</td>\n",
       "      <td>broken clouds</td>\n",
       "      <td>-10.4056</td>\n",
       "      <td>-36.4344</td>\n",
       "      <td>Piaçabuçu News</td>\n",
       "    </tr>\n",
       "  </tbody>\n",
       "</table>\n",
       "<p>225 rows × 7 columns</p>\n",
       "</div>"
      ],
      "text/plain": [
       "                City Country  Max Temp Current Description      Lat       Lng  \\\n",
       "8            Rikitea      PF     76.41    scattered clouds -23.1203 -134.9692   \n",
       "14               Vao      NC     75.42    scattered clouds -22.6667  167.4833   \n",
       "19   Bambous Virieux      MU     75.45       broken clouds -20.3428   57.7575   \n",
       "22          Riohacha      CO     88.27     overcast clouds  11.5444  -72.9072   \n",
       "24        Georgetown      MY     84.13          few clouds   5.4112  100.3354   \n",
       "..               ...     ...       ...                 ...      ...       ...   \n",
       "713           Bitung      ID     77.85     overcast clouds   1.4451  125.1824   \n",
       "719          Bubaque      GW     78.73          few clouds  11.2833  -15.8333   \n",
       "721        Las Vegas      US     81.84           clear sky  36.1750 -115.1372   \n",
       "723          Nabisar      PK     89.46           clear sky  25.0685   69.6419   \n",
       "725        Piacabucu      BR     82.80       broken clouds -10.4056  -36.4344   \n",
       "\n",
       "               Hotel Name  \n",
       "8         People ThankYou  \n",
       "14        Hotel Kou-Bugny  \n",
       "19         Casa Tia Villa  \n",
       "22            Hotel Taroa  \n",
       "24         Cititel Penang  \n",
       "..                    ...  \n",
       "713             K2 Lembeh  \n",
       "719    Casa Dora, Bubaque  \n",
       "721  Plaza Hotel & Casino  \n",
       "723      Dhani Parto Dars  \n",
       "725        Piaçabuçu News  \n",
       "\n",
       "[225 rows x 7 columns]"
      ]
     },
     "execution_count": 9,
     "metadata": {},
     "output_type": "execute_result"
    }
   ],
=======
   "execution_count": 8,
   "metadata": {},
   "outputs": [],
>>>>>>> Stashed changes
   "source": [
    "# 6a. Set parameters to search for hotels with 5000 meters.\n",
    "params = {\n",
    "    \"radius\": 5000,\n",
    "    \"type\": \"lodging\",\n",
    "    \"key\": g_key\n",
    "}\n",
    "\n",
    "# 6b. Iterate through the hotel DataFrame.\n",
<<<<<<< Updated upstream
    "for index, row in hotel_df.iterrows():\n",
    "    # Get the latitude and longitude.\n",
    "    lat = row[\"Lat\"]\n",
    "    lng = row[\"Lng\"]\n",
    "\n",
    "    # 6c. Get latitude and longitude from DataFrame\n",
    "    params[\"location\"] = f\"{lat},{lng}\"\n",
    "\n",
    "    \n",
    "    # 6d. Set up the base URL for the Google Directions API to get JSON data.\n",
    "    base_url = \"https://maps.googleapis.com/maps/api/place/nearbysearch/json\"\n",
    "\n",
    "    # 6e. Make request and retrieve the JSON data from the search. \n",
    "    hotels = requests.get(base_url, params=params).json()  \n",
    "    \n",
    "    # 6f. Get the first hotel from the results and store the name, if a hotel isn't found skip the city.\n",
    "    try:\n",
    "        hotel_df.loc[index, \"Hotel Name\"] = hotels[\"results\"][0][\"name\"]\n",
    "    except (IndexError):\n",
    "        print(\"Hotel not found... skipping.\")\n",
    "hotel_df"
=======
    "\n",
    "    # 6c. Get latitude and longitude from DataFrame\n",
    "\n",
    "    \n",
    "    # 6d. Set up the base URL for the Google Directions API to get JSON data.\n",
    "    \n",
    "\n",
    "    # 6e. Make request and retrieve the JSON data from the search. \n",
    "   \n",
    "    \n",
    "    # 6f. Get the first hotel from the results and store the name, if a hotel isn't found skip the city.\n",
    "    \n",
    "        "
>>>>>>> Stashed changes
   ]
  },
  {
   "cell_type": "code",
<<<<<<< Updated upstream
=======
<<<<<<< HEAD
>>>>>>> Stashed changes
<<<<<<< Updated upstream
   "execution_count": 29,
=======
   "execution_count": 11,
>>>>>>> d769eee648dc774d56e271b4ce3a337e7118a4c5
   "metadata": {},
   "outputs": [
    {
     "data": {
      "text/plain": [
       "City                   225\n",
       "Country                225\n",
       "Max Temp               225\n",
       "Current Description    225\n",
       "Lat                    225\n",
       "Lng                    225\n",
       "Hotel Name             225\n",
       "dtype: int64"
      ]
     },
     "execution_count": 11,
     "metadata": {},
     "output_type": "execute_result"
    }
   ],
   "source": [
    "# 7. Drop the rows where there is no Hotel Name.\n",
    "hotel_df.count()\n"
=======
   "execution_count": 9,
   "metadata": {},
   "outputs": [],
   "source": [
    "# 7. Drop the rows where there is no Hotel Name.\n"
>>>>>>> Stashed changes
   ]
  },
  {
   "cell_type": "code",
<<<<<<< Updated upstream
=======
<<<<<<< HEAD
>>>>>>> Stashed changes
<<<<<<< Updated upstream
   "execution_count": 31,
=======
   "execution_count": 10,
>>>>>>> Stashed changes
<<<<<<< Updated upstream
=======
=======
   "execution_count": 12,
>>>>>>> d769eee648dc774d56e271b4ce3a337e7118a4c5
>>>>>>> Stashed changes
   "metadata": {},
   "outputs": [],
   "source": [
    "# 8a. Create the output File (CSV)\n",
<<<<<<< Updated upstream
    "output_data_file = \"WeatherPy_Database.csv\"\n",
    "# 8b. Export the City_Data into a csv\n",
    "hotel_df.to_csv(output_data_file, index_label=\"City_ID\")"
=======
    "\n",
    "# 8b. Export the City_Data into a csv\n",
    "clean_hotel_df.to_csv(output_data_file, index_label=\"City_ID\")"
>>>>>>> Stashed changes
   ]
  },
  {
   "cell_type": "code",
<<<<<<< Updated upstream
=======
<<<<<<< HEAD
>>>>>>> Stashed changes
<<<<<<< Updated upstream
   "execution_count": 40,
=======
   "execution_count": 11,
>>>>>>> Stashed changes
<<<<<<< Updated upstream
=======
=======
   "execution_count": 13,
>>>>>>> d769eee648dc774d56e271b4ce3a337e7118a4c5
>>>>>>> Stashed changes
   "metadata": {},
   "outputs": [],
   "source": [
    "# 9. Using the template add city name, the country code, the weather description and maximum temperature for the city.\n",
    "info_box_template = \"\"\"\n",
<<<<<<< Updated upstream
    "<dl>\n",
    "<dt>Hotel Name</dt><dd>{Hotel Name}</dd>\n",
    "<dt>City</dt><dd>{City}</dd>\n",
    "<dt>Country</dt><dd>{Country}</dd>\n",
    "<dt>Max Temp</dt><dd>{Max Temp} °F</dd>\n",
    "<dt>Current Weather</dt><dd>{Current Description}</dd>\n",
    "</dl>\n",
    "\"\"\"\n",
    "\n",
    "# 10a. Get the data from each row and add it to the formatting template and store the data in a list.\n",
    "hotel_info = [info_box_template.format(**row) for index, row in hotel_df.iterrows()]\n",
    "\n",
    "# 10b. Get the latitude and longitude from each row and store in a new DataFrame.\n",
    "locations = hotel_df[[\"Lat\", \"Lng\"]]\n",
    "\n",
    "\n"
=======
    "\n",
    "\"\"\"\n",
    "\n",
    "# 10a. Get the data from each row and add it to the formatting template and store the data in a list.\n",
    "hotel_info = [info_box_template.format(**row) for index, row in clean_hotel_df.iterrows()]\n",
    "\n",
    "# 10b. Get the latitude and longitude from each row and store in a new DataFrame.\n",
    "locations = clean_hotel_df[[\"Lat\", \"Lng\"]]"
>>>>>>> Stashed changes
   ]
  },
  {
   "cell_type": "code",
<<<<<<< Updated upstream
=======
<<<<<<< HEAD
>>>>>>> Stashed changes
<<<<<<< Updated upstream
   "execution_count": 39,
=======
   "execution_count": 14,
>>>>>>> d769eee648dc774d56e271b4ce3a337e7118a4c5
   "metadata": {},
   "outputs": [
    {
     "data": {
      "application/vnd.jupyter.widget-view+json": {
       "model_id": "af07274ed3d841deb85784b4e4923472",
       "version_major": 2,
       "version_minor": 0
      },
      "text/plain": [
       "Figure(layout=FigureLayout(height='420px'))"
      ]
     },
     "metadata": {},
     "output_type": "display_data"
    }
   ],
   "source": [
    "# 11a. Add a marker layer for each city to the map. \n",
    "fig = gmaps.figure(center=(30.0, 31.0), zoom_level=1.5)\n",
    "marker_layer = gmaps.marker_layer(locations, info_box_content=hotel_info)\n",
    "fig.add_layer(marker_layer)\n",
    "\n",
    "# 11b. Display the figure\n",
    "fig\n"
=======
   "execution_count": 12,
   "metadata": {},
   "outputs": [],
   "source": [
    "# 11a. Add a marker layer for each city to the map. \n",
    "\n",
    "# 11b. Display the figure\n"
>>>>>>> Stashed changes
   ]
  },
  {
   "cell_type": "code",
   "execution_count": null,
   "metadata": {},
   "outputs": [],
   "source": []
  },
  {
   "cell_type": "code",
   "execution_count": null,
   "metadata": {},
   "outputs": [],
   "source": []
  }
 ],
 "metadata": {
  "kernelspec": {
   "display_name": "Python 3 (ipykernel)",
   "language": "python",
   "name": "python3"
  },
  "language_info": {
   "codemirror_mode": {
    "name": "ipython",
    "version": 3
   },
   "file_extension": ".py",
   "mimetype": "text/x-python",
   "name": "python",
   "nbconvert_exporter": "python",
   "pygments_lexer": "ipython3",
   "version": "3.7.11"
  },
  "latex_envs": {
   "LaTeX_envs_menu_present": true,
   "autoclose": false,
   "autocomplete": true,
   "bibliofile": "biblio.bib",
   "cite_by": "apalike",
   "current_citInitial": 1,
   "eqLabelWithNumbers": true,
   "eqNumInitial": 1,
   "hotkeys": {
    "equation": "Ctrl-E",
    "itemize": "Ctrl-I"
   },
   "labels_anchors": false,
   "latex_user_defs": false,
   "report_style_numbering": false,
   "user_envs_cfg": false
  }
 },
 "nbformat": 4,
 "nbformat_minor": 2
}
